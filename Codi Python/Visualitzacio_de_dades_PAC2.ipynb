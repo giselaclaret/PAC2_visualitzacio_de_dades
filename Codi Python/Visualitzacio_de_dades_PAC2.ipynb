{
 "cells": [
  {
   "cell_type": "markdown",
   "metadata": {},
   "source": [
    "# PAC 2 - VISUALITZACIÓ DE DADES\n",
    "\n",
    "### Gisela Claret Tortajada"
   ]
  },
  {
   "cell_type": "markdown",
   "metadata": {},
   "source": [
    "## Peace agreements database - Exploració de dades"
   ]
  },
  {
   "cell_type": "markdown",
   "metadata": {},
   "source": [
    "## 1. Introducció"
   ]
  },
  {
   "cell_type": "markdown",
   "metadata": {},
   "source": [
    "En aquest document es presentarà el codi utilitzat per dur a terme l'exploració de les dades proporcionades per la PAC 2 de l'assignatura Visualització de dades. Les dades han estat extretes de la web: https://www.peaceagreements.org/search i consta d'un conjunt de dades dels acords de pau de tot el món des del 1990 fins a mitjans del 2020. En aquesta PAC ens centrarem únicament amb els acords de pau referents als drets de les dones. "
   ]
  },
  {
   "cell_type": "markdown",
   "metadata": {},
   "source": [
    "## 2. Càrrega i exploració de les dades"
   ]
  },
  {
   "cell_type": "code",
   "execution_count": 2,
   "metadata": {},
   "outputs": [],
   "source": [
    "# Carreguem les llibreries necessàries\n",
    "\n",
    "import pandas as pd\n",
    "from pandas import ExcelWriter\n",
    "from pandas import ExcelFile"
   ]
  },
  {
   "cell_type": "code",
   "execution_count": 4,
   "metadata": {},
   "outputs": [
    {
     "name": "stdout",
     "output_type": "stream",
     "text": [
      "Column headings:\n",
      "Index(['Con', 'Contp', 'PP', 'PPName', 'Reg', 'AgtId', 'Ver', 'Agt', 'Dat',\n",
      "       'Status',\n",
      "       ...\n",
      "       'TjRep', 'TjRSym', 'TjRMa', 'TjNR', 'ImUN', 'ImOth', 'ImRef', 'ImPK',\n",
      "       'ImE', 'ImSrc'],\n",
      "      dtype='object', length=266)\n"
     ]
    }
   ],
   "source": [
    "df = pd.read_excel('pax_all_agreements_data.xlsx')\n",
    "\n",
    "print(\"Column headings:\")\n",
    "print(df.columns)"
   ]
  },
  {
   "cell_type": "code",
   "execution_count": 32,
   "metadata": {},
   "outputs": [
    {
     "data": {
      "text/plain": [
       "Con       1868\n",
       "Contp     1868\n",
       "PP        1868\n",
       "PPName    1868\n",
       "Reg       1868\n",
       "          ... \n",
       "ImOth     1868\n",
       "ImRef     1868\n",
       "ImPK      1868\n",
       "ImE       1868\n",
       "ImSrc     1868\n",
       "Length: 266, dtype: int64"
      ]
     },
     "execution_count": 32,
     "metadata": {},
     "output_type": "execute_result"
    }
   ],
   "source": [
    "df.count()"
   ]
  },
  {
   "cell_type": "code",
   "execution_count": 14,
   "metadata": {},
   "outputs": [],
   "source": [
    "#Ens quedem solament amb les columnes desitjades: \n",
    "\n",
    "df_Woman = df[[\"Con\", \"Contp\", \"Reg\", \"Dat\", \"Stage\", \"Loc1ISO\", \"Loc2ISO\", \"GeWom\"]]"
   ]
  },
  {
   "cell_type": "code",
   "execution_count": 16,
   "metadata": {
    "scrolled": false
   },
   "outputs": [
    {
     "data": {
      "text/html": [
       "<div>\n",
       "<style scoped>\n",
       "    .dataframe tbody tr th:only-of-type {\n",
       "        vertical-align: middle;\n",
       "    }\n",
       "\n",
       "    .dataframe tbody tr th {\n",
       "        vertical-align: top;\n",
       "    }\n",
       "\n",
       "    .dataframe thead th {\n",
       "        text-align: right;\n",
       "    }\n",
       "</style>\n",
       "<table border=\"1\" class=\"dataframe\">\n",
       "  <thead>\n",
       "    <tr style=\"text-align: right;\">\n",
       "      <th></th>\n",
       "      <th>Con</th>\n",
       "      <th>Contp</th>\n",
       "      <th>Reg</th>\n",
       "      <th>Dat</th>\n",
       "      <th>Stage</th>\n",
       "      <th>Loc1ISO</th>\n",
       "      <th>Loc2ISO</th>\n",
       "      <th>GeWom</th>\n",
       "    </tr>\n",
       "  </thead>\n",
       "  <tbody>\n",
       "    <tr>\n",
       "      <th>0</th>\n",
       "      <td>Afghanistan</td>\n",
       "      <td>Government/territory</td>\n",
       "      <td>Europe and Eurasia</td>\n",
       "      <td>2019-07-08</td>\n",
       "      <td>Pre</td>\n",
       "      <td>AFG</td>\n",
       "      <td>NaN</td>\n",
       "      <td>1</td>\n",
       "    </tr>\n",
       "    <tr>\n",
       "      <th>1</th>\n",
       "      <td>Afghanistan</td>\n",
       "      <td>Government</td>\n",
       "      <td>Europe and Eurasia</td>\n",
       "      <td>2016-09-22</td>\n",
       "      <td>SubPar</td>\n",
       "      <td>AFG</td>\n",
       "      <td>NaN</td>\n",
       "      <td>1</td>\n",
       "    </tr>\n",
       "    <tr>\n",
       "      <th>2</th>\n",
       "      <td>Afghanistan</td>\n",
       "      <td>Government</td>\n",
       "      <td>Europe and Eurasia</td>\n",
       "      <td>2014-09-21</td>\n",
       "      <td>Imp</td>\n",
       "      <td>AFG</td>\n",
       "      <td>NaN</td>\n",
       "      <td>1</td>\n",
       "    </tr>\n",
       "    <tr>\n",
       "      <th>3</th>\n",
       "      <td>Afghanistan</td>\n",
       "      <td>Government</td>\n",
       "      <td>Europe and Eurasia</td>\n",
       "      <td>2012-07-08</td>\n",
       "      <td>Imp</td>\n",
       "      <td>AFG</td>\n",
       "      <td>NaN</td>\n",
       "      <td>1</td>\n",
       "    </tr>\n",
       "    <tr>\n",
       "      <th>4</th>\n",
       "      <td>Afghanistan</td>\n",
       "      <td>Government</td>\n",
       "      <td>Europe and Eurasia</td>\n",
       "      <td>2011-12-05</td>\n",
       "      <td>Pre</td>\n",
       "      <td>AFG</td>\n",
       "      <td>NaN</td>\n",
       "      <td>1</td>\n",
       "    </tr>\n",
       "  </tbody>\n",
       "</table>\n",
       "</div>"
      ],
      "text/plain": [
       "           Con                 Contp                 Reg         Dat   Stage  \\\n",
       "0  Afghanistan  Government/territory  Europe and Eurasia  2019-07-08     Pre   \n",
       "1  Afghanistan            Government  Europe and Eurasia  2016-09-22  SubPar   \n",
       "2  Afghanistan            Government  Europe and Eurasia  2014-09-21     Imp   \n",
       "3  Afghanistan            Government  Europe and Eurasia  2012-07-08     Imp   \n",
       "4  Afghanistan            Government  Europe and Eurasia  2011-12-05     Pre   \n",
       "\n",
       "  Loc1ISO Loc2ISO  GeWom  \n",
       "0     AFG     NaN      1  \n",
       "1     AFG     NaN      1  \n",
       "2     AFG     NaN      1  \n",
       "3     AFG     NaN      1  \n",
       "4     AFG     NaN      1  "
      ]
     },
     "execution_count": 16,
     "metadata": {},
     "output_type": "execute_result"
    }
   ],
   "source": [
    "df_Woman.head()"
   ]
  },
  {
   "cell_type": "code",
   "execution_count": 55,
   "metadata": {},
   "outputs": [
    {
     "data": {
      "text/plain": [
       "Government              182\n",
       "Government/territory    140\n",
       "Inter-group              46\n",
       "Territory                 3\n",
       "Name: Contp, dtype: int64"
      ]
     },
     "execution_count": 55,
     "metadata": {},
     "output_type": "execute_result"
    }
   ],
   "source": [
    "# Observem quin tipus de dades són:\n",
    "Woman = df_Woman.loc[:, 'GeWom'] == 1\n",
    "\n",
    "df_W = df.loc[Woman]\n",
    "\n",
    "\n",
    "df_W\n",
    "df_W[\"Contp\"].value_counts()"
   ]
  },
  {
   "cell_type": "code",
   "execution_count": 56,
   "metadata": {},
   "outputs": [
    {
     "data": {
      "text/plain": [
       "Africa (excl MENA)              171\n",
       "Asia and Pacific                 72\n",
       "Europe and Eurasia               45\n",
       "Americas                         40\n",
       "Middle East and North Africa     39\n",
       "Cross-regional                    4\n",
       "Name: Reg, dtype: int64"
      ]
     },
     "execution_count": 56,
     "metadata": {},
     "output_type": "execute_result"
    }
   ],
   "source": [
    "# Observem quin tipus de dades són:\n",
    "\n",
    "df_W[\"Reg\"].value_counts()"
   ]
  },
  {
   "cell_type": "code",
   "execution_count": 57,
   "metadata": {},
   "outputs": [
    {
     "data": {
      "text/plain": [
       "SubPar     139\n",
       "Pre         67\n",
       "Imp         65\n",
       "SubComp     64\n",
       "Cea         36\n",
       "Name: Stage, dtype: int64"
      ]
     },
     "execution_count": 57,
     "metadata": {},
     "output_type": "execute_result"
    }
   ],
   "source": [
    "# Observem quin tipus de dades són:\n",
    "\n",
    "df_W[\"Stage\"].value_counts()"
   ]
  },
  {
   "cell_type": "code",
   "execution_count": 59,
   "metadata": {},
   "outputs": [
    {
     "data": {
      "text/plain": [
       "0    1497\n",
       "1     371\n",
       "Name: GeWom, dtype: int64"
      ]
     },
     "execution_count": 59,
     "metadata": {},
     "output_type": "execute_result"
    }
   ],
   "source": [
    "# Observem quin tipus de dades són:\n",
    "\n",
    "df_Woman[\"GeWom\"].value_counts()"
   ]
  },
  {
   "cell_type": "code",
   "execution_count": 28,
   "metadata": {},
   "outputs": [
    {
     "name": "stdout",
     "output_type": "stream",
     "text": [
      "<class 'pandas.core.frame.DataFrame'>\n",
      "RangeIndex: 1868 entries, 0 to 1867\n",
      "Data columns (total 8 columns):\n",
      " #   Column   Non-Null Count  Dtype \n",
      "---  ------   --------------  ----- \n",
      " 0   Con      1868 non-null   object\n",
      " 1   Contp    1868 non-null   object\n",
      " 2   Reg      1868 non-null   object\n",
      " 3   Dat      1868 non-null   object\n",
      " 4   Stage    1868 non-null   object\n",
      " 5   Loc1ISO  1833 non-null   object\n",
      " 6   Loc2ISO  246 non-null    object\n",
      " 7   GeWom    1868 non-null   int64 \n",
      "dtypes: int64(1), object(7)\n",
      "memory usage: 116.9+ KB\n"
     ]
    }
   ],
   "source": [
    "df_Woman.info()"
   ]
  },
  {
   "cell_type": "code",
   "execution_count": 47,
   "metadata": {},
   "outputs": [
    {
     "data": {
      "text/plain": [
       "Bosnia and Herzegovina/Yugoslavia (former)                       133\n",
       "Colombia                                                         128\n",
       "Philippines/Mindanao                                             126\n",
       "Syria                                                             93\n",
       "Nepal                                                             51\n",
       "                                                                ... \n",
       "Macedonia/Yugoslavia (former)                                      1\n",
       "Ethiopia                                                           1\n",
       "India/Manipur                                                      1\n",
       "India/Assam                                                        1\n",
       "France/Germany/Russia/United Kingdom/United States of America      1\n",
       "Name: Con, Length: 170, dtype: int64"
      ]
     },
     "execution_count": 47,
     "metadata": {},
     "output_type": "execute_result"
    }
   ],
   "source": [
    "df_Woman[\"Con\"].value_counts()"
   ]
  },
  {
   "cell_type": "code",
   "execution_count": 30,
   "metadata": {},
   "outputs": [],
   "source": [
    "# A continuació exportem aquest dataframe per tal de realitzar les visualitzacions amb tableau:\n",
    "\n",
    "df_Woman.to_excel(r'dades_genere.xlsx', index = False)"
   ]
  },
  {
   "cell_type": "code",
   "execution_count": null,
   "metadata": {},
   "outputs": [],
   "source": []
  }
 ],
 "metadata": {
  "kernelspec": {
   "display_name": "Python 3",
   "language": "python",
   "name": "python3"
  },
  "language_info": {
   "codemirror_mode": {
    "name": "ipython",
    "version": 3
   },
   "file_extension": ".py",
   "mimetype": "text/x-python",
   "name": "python",
   "nbconvert_exporter": "python",
   "pygments_lexer": "ipython3",
   "version": "3.8.5"
  }
 },
 "nbformat": 4,
 "nbformat_minor": 4
}
